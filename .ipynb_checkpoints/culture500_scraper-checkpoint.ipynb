{
 "cells": [
  {
   "cell_type": "markdown",
   "metadata": {},
   "source": [
    "## Requirements\n",
    "* [Chrome Driver](https://chromedriver.chromium.org/downloads)\n",
    "* Selenium\n",
    "\n",
    "### Considerations\n",
    "* Consider using webdriver-manager to streamline installation of chrome driver"
   ]
  },
  {
   "cell_type": "code",
   "execution_count": 105,
   "metadata": {},
   "outputs": [],
   "source": [
    "import requests\n",
    "import time\n",
    "\n",
    "from bs4 import BeautifulSoup\n",
    "from selenium import webdriver\n",
    "from selenium.webdriver.chrome.options import Options"
   ]
  },
  {
   "cell_type": "code",
   "execution_count": 106,
   "metadata": {},
   "outputs": [],
   "source": [
    "BASE_COMPANY_URL = \"https://sloanreview.mit.edu/culture500/company/c\"\n",
    "COMPANY_VALUES = {\n",
    "    \"Agility\": \"agility\",\n",
    "    \"Collaboration\": \"collaboration\",\n",
    "    \"Customer\": \"customer\",\n",
    "    \"Diversity\": \"inclusivity\",\n",
    "    \"Execution\": \"execution\",\n",
    "    \"Innovation\": \"innovation\",\n",
    "    \"Integrity\": \"integrity\",\n",
    "    \"Performance\": \"performance\",\n",
    "    \"Respect\": \"respect\",\n",
    "}\n",
    "PATH_TO_CHROME_DRIVER = \"/Users/jamosa/bin/chromedriver\"\n",
    "CHROME_OPTIONS = Options()\n",
    "# CHROME_OPTIONS.add_argument(\"--headless\")"
   ]
  },
  {
   "cell_type": "markdown",
   "metadata": {},
   "source": [
    "## Company URL\n",
    "The URL associated with each company is relatively the same. The offset for a companies index is 100, so the first company's information can be found at `https://sloanreview.mit.edu/culture500/company/c101` which is the company `3M`. Therefore, information associated with all companies listed on the Culture 500 page can be found by modifying the last 3 characters of the URL with values in the range of 101 and 631, inclusive."
   ]
  },
  {
   "cell_type": "code",
   "execution_count": 107,
   "metadata": {},
   "outputs": [],
   "source": [
    "company_indices = range(101, 632)"
   ]
  },
  {
   "cell_type": "markdown",
   "metadata": {},
   "source": [
    "## Singleton Inspection\n",
    "So, questions! Now we need to examine a single instance and see if we can successfully scrape information form the site.\n",
    "* Can we successfully scrape information about a single instance?\n",
    "* Do all instances follow the same structure?"
   ]
  },
  {
   "cell_type": "code",
   "execution_count": 117,
   "metadata": {},
   "outputs": [
    {
     "name": "stdout",
     "output_type": "stream",
     "text": [
      "Company Name: 3M\n",
      "Agility: Frequency Score - +2.0 | Sentiment Score: -1.6\n"
     ]
    }
   ],
   "source": [
    "chrome_driver = webdriver.Chrome(executable_path=PATH_TO_CHROME_DRIVER, options=CHROME_OPTIONS)\n",
    "company_number = 101 # Substitute with iterable once implementation works\n",
    "culture500_company = f\"{BASE_COMPANY_URL}{company_number}\"\n",
    "cur_company_category_html = \"\"\n",
    "\n",
    "# Start off with one company and one category\n",
    "chrome_driver.get(culture500_company) # open webpage\n",
    "\n",
    "# Get Company's name\n",
    "company_name_div = scraper.find(\"div\", {\"class\": \"sc-bdVaJa sc-bwzfXH jruoDg\"})\n",
    "company_name = company_name_div.get_text()\n",
    "\n",
    "# All buttons associated with company values have the same class name\n",
    "# Grab all links and simulate a click action\n",
    "cv_buttons = chrome_driver.find_elements_by_class_name(\"sc-bdVaJa.sc-EHOje.bubble-sidebar-button.sc-gqjmRU.eiaGtK\")\n",
    "\n",
    "# Start of by getting information about one instance `agility`\n",
    "# Simulate the click action\n",
    "time.sleep(1) # Hacky approach, but should wait for page to be fully loaded before clicking\n",
    "cv_buttons[0].click()\n",
    "\n",
    "\n",
    "# Grab the updated pages content\n",
    "cur_company_cur_value_html = chrome_driver.page_source\n",
    "\n",
    "# Initialize web scraper with current companies html page\n",
    "scraper = BeautifulSoup(cur_company_cur_value_html, \"html.parser\")\n",
    "\n",
    "# Grab information about the frequency score and sentiment score\n",
    "# Both have the same class name across all company values\n",
    "freq_sent_score = scraper.find(\"div\", {\"class\": \"sc-bdVaJa sc-htpNat hALkol\"})\n",
    "freq_sent_score = freq_sent_score.get_text()\n",
    "freq_sent_score = freq_sent_score.replace(\"Frequency Score: \", \"\")\n",
    "freq_sent_score = freq_sent_score.replace(\"Sentiment Score: \", \" \")\n",
    "frequency_score, sentiment_score = freq_sent_score.split(\" \")\n",
    "\n",
    "print(f\"Company Name: {company_name}\")\n",
    "print(f\"Agility: Frequency Score - {frequency_score} | Sentiment Score: {sentiment_score}\")\n",
    "chrome_driver.quit()"
   ]
  },
  {
   "cell_type": "code",
   "execution_count": 113,
   "metadata": {},
   "outputs": [
    {
     "name": "stdout",
     "output_type": "stream",
     "text": [
      "Help on method click in module selenium.webdriver.remote.webelement:\n",
      "\n",
      "click() method of selenium.webdriver.remote.webelement.WebElement instance\n",
      "    Clicks the element.\n",
      "\n"
     ]
    }
   ],
   "source": [
    "# res = scraper.find(\"div\", {\"class\": \"sc-bdVaJa sc-htpNat hALkol\"})\n",
    "# res = res.get_text()\n",
    "# company_name_div.get_text()\n",
    "cv_buttons[0].click()\n",
    "freq_sent_score = scraper.find(\"div\", {\"class\": \"sc-bdVaJa sc-htpNat hALkol\"})\n",
    "freq_sent_score\n"
   ]
  },
  {
   "cell_type": "code",
   "execution_count": 97,
   "metadata": {},
   "outputs": [
    {
     "data": {
      "text/plain": [
       "['+2.0', '-1.6']"
      ]
     },
     "execution_count": 97,
     "metadata": {},
     "output_type": "execute_result"
    }
   ],
   "source": [
    "res.replace(\"Frequency Score: \", \"\").replace(\"Sentiment Score: \", \" \").split(\" \")"
   ]
  },
  {
   "cell_type": "code",
   "execution_count": 120,
   "metadata": {},
   "outputs": [],
   "source": [
    "chrome_driver.quit()"
   ]
  },
  {
   "cell_type": "code",
   "execution_count": 14,
   "metadata": {},
   "outputs": [],
   "source": [
    "with open(\"tmp.html\", \"w\") as file:\n",
    "    file.write(cur_company_category_html)"
   ]
  },
  {
   "cell_type": "code",
   "execution_count": 18,
   "metadata": {},
   "outputs": [],
   "source": [
    "company_3m = f\"{BASE_COMPANY_URL}101\"\n",
    "with requests.Session() as session:\n",
    "    response = requests.get(company_3m)\n"
   ]
  },
  {
   "cell_type": "code",
   "execution_count": 19,
   "metadata": {},
   "outputs": [
    {
     "name": "stdout",
     "output_type": "stream",
     "text": [
      "<!doctype html>\n",
      "  <html lang=\"en\">\n",
      "  <head>\n",
      "    <meta charset=\"utf-8\"/>\n",
      "    <base href=\"/culture500/\" />\n",
      "    <link rel=\"shortcut icon\" href=\"https://sloanreview.mit.edu/content/plugins/culture-500/favicon.png\"/>\n",
      "    <meta name=\"viewport\" content=\"width=device-width,initial-scale=1,shrink-to-fit=no\"/>\n",
      "    <meta name=\"theme-color\" content=\"#000000\"/>\n",
      "    <link rel=\"manifest\" href=\"https://sloanreview.mit.edu/content/plugins/culture-500/manifest.json?20190722\"/>\n",
      "    <link href=\"https://fonts.googleapis.com/css?family=Roboto|Work+Sans:400,600\" rel=\"stylesheet\"/>\n",
      "    <link href=\"https://sloanreview.mit.edu/content/plugins/culture-500/static/css/mit-c500-main.css?20190722\" rel=\"stylesheet\">\n",
      "    <link rel=\"apple-touch-icon-precomposed\" sizes=\"144x144\" href=\"/static/apple-touch-icon-144x144-precomposed.png\" />\n",
      "    <link rel=\"apple-touch-icon-precomposed\" sizes=\"114x114\" href=\"/static/apple-touch-icon-114x114-precomposed.png\" />\n",
      "    <link rel=\"apple-touch-icon-precomposed\" sizes=\"72x72\" href=\"/static/apple-touch-icon-72x72-precomposed.png\" />\n",
      "    <link rel=\"apple-touch-icon-precomposed\" href=\"/static/apple-touch-icon-precomposed.png\" />\n",
      "    <link rel=\"shortcut icon\" href=\"/static/apple-touch-icon.png\" />\n",
      "    <link rel=\"shortcut icon\" href=\"/static/favicon.ico\" type=\"image/x-icon\" />\n",
      "    <title>How Employees Talk About Culture at 3M | Culture500 | MIT Sloan Managment Review</title>\n",
      "<meta property=\"og:title\" content=\"This Is What Employees Are Saying About Culture at 3M\" />\n",
      "<meta property=\"og:type\" content=\"article\" />\n",
      "<meta property=\"og:url\" content=\"https://sloanreview.mit.edu/culture500/company/c101\" />\n",
      "<meta property=\"og:image\" content=\"https://s3.amazonaws.com/marketing.mitsmr.com/editorial/culture500/og/3M-overview-1200x627.jpg\" />\n",
      "<meta property=\"og:site_name\" content=\"MIT Sloan Management Review\" />\n",
      "<meta property=\"fb:admins\" content=\"713188\" />\n",
      "<meta property=\"fb:app_id\" content=\"137774170174516\" />\n",
      "<meta name=\"description\" property=\"og:description\" content=\"An algorithm from MIT interprets Glassdoor reviews from real employees to show what the culture is really like at 3M\" />\n",
      "<meta property=\"article:image\" content=\"https://s3.amazonaws.com/marketing.mitsmr.com/editorial/culture500/og/3M-overview-1200x627.jpg\" />\n",
      "<meta name=\"section\" content=\"The Strategic Agility Project\" />\n",
      "<meta name=\"contenttype\" content=\"Interactive\" />\n",
      "<meta name=\"twitter:card\" content=\"summary_large_image\" />\n",
      "<meta name=\"twitter:title\" content=\"This Is What Employees Are Saying About Culture at 3M\" />\n",
      "<meta name=\"twitter:url\" content=\"https://sloanreview.mit.edu/culture500/company/c101\" />\n",
      "<meta name=\"twitter:image\" content=\"https://s3.amazonaws.com/marketing.mitsmr.com/editorial/culture500/og/3M-overview-1200x627.jpg\" />\n",
      "<meta name=\"twitter:description\" content=\"An algorithm from MIT interprets Glassdoor reviews from real employees to show what the culture is really like at 3M\" />\n",
      "<meta name=\"twitter:site\" content=\"@mitsmr\" />\n",
      "<meta name=\"twitter:site:id\" content=\"15692087\" />\n",
      "<meta property=\"fb:pages\" content=\"160225016065\" />    <script type=\"text/javascript\" src=\"//script.crazyegg.com/pages/scripts/0017/1949.js\" async=\"async\"></script>\n",
      "      <script>\n",
      "    document.cookie = \"__adblocker=; expires=Thu, 01 Jan 1970 00:00:00 GMT; path=/\";\n",
      "    var setNptTechAdblockerCookie = function(adblocker) {\n",
      "        var d = new Date();\n",
      "        d.setTime(d.getTime() + 60 * 5 * 1000);\n",
      "        document.cookie = \"__adblocker=\" + (adblocker ? \"true\" : \"false\") + \"; expires=\" + d.toUTCString() + \"; path=/\";\n",
      "    };\n",
      "    var script = document.createElement(\"script\");\n",
      "    script.setAttribute(\"async\", true);\n",
      "    script.setAttribute(\"src\", \"//www.npttech.com/advertising.js\");\n",
      "    script.setAttribute(\"onerror\", \"setNptTechAdblockerCookie(true);\");\n",
      "    document.getElementsByTagName(\"head\")[0].appendChild(script);\n",
      "</script>  </head>\n",
      "  <body>\n",
      "    <noscript>You need to enable JavaScript to run this app.</noscript>\n",
      "    <div id=\"root\"></div>\n",
      "    <script src=\"https://sloanreview.mit.edu/content/plugins/culture-500/static/js/mit-c500-main.js?20190722\"></script>\n",
      "  <script>\n",
      "    tp = window[\"tp\"] || [];\n",
      "    tp.push([\"setTags\", [\"Paywall-Disabled\"]]);\n",
      "    \n",
      "    \n",
      "    tp.push([\"init\", function() {\n",
      "        tp.enableGACrossDomainLinking();\n",
      "    }]);\n",
      "</script><script>\n",
      "    tp = window[\"tp\"] || [];\n",
      "    tp.push([\"setUsePianoIdUserProvider\", true ]);   \n",
      "</script>\n",
      "<script>\n",
      "    tp = window[\"tp\"] || [];\n",
      "   tp.push([\"addHandler\", \"customEvent\", function(event, b, c, d) {\n",
      "    switch(event.eventName) {\n",
      "        case 'submit':\n",
      "            var email = '';\n",
      "            var source = '';\n",
      "            var list = '';\n",
      "            var params;\n",
      "            var iframeId;\n",
      "            params = JSON.parse(event.params.params);\n",
      "            iframeId = params.iframeId;\n",
      "            source = event.params.source;\n",
      "            list = event.params.list;\n",
      "            if ((typeof event.params.email != 'undefined') && (event.params.email.length > 0)) {\n",
      "                email = event.params.email;\n",
      "            }\n",
      "\n",
      "            var url = 'https://sloanreview.mit.edu/wp-admin/admin-ajax.php';\n",
      "\n",
      "            //Not sure if myEmma needs this but here I'm making sure I'm gettin a response\n",
      "            var userData = {\n",
      "                email: email, \n",
      "                source: source,\n",
      "                action : 'esf_piano_subscribe',\n",
      "                list :list\n",
      "            }\n",
      "\n",
      "            jQuery.post(url, userData, function(r) {\n",
      "                tp.push([\"setCustomVariable\", \"newsletter\", \"true\"]);\n",
      "            });\n",
      "            break;\n",
      "    }\n",
      "}]);\n",
      "</script>\n",
      "\n",
      "<script>\n",
      "tp.push([\"addHandler\", \"loginSuccess\", function (event){\n",
      "    if(event.registration == true) {\n",
      "        var uid = tp.pianoId.getUser().uid\n",
      "        var params = { \n",
      "            uid: uid,\n",
      "            action : 'piano_reg',\n",
      "        }\n",
      "        var url = 'https://sloanreview.mit.edu/wp-admin/admin-ajax.php';\n",
      "        jQuery.post(url, params, function(r) {});\n",
      "           \n",
      "        setTimeout(function(){\n",
      "          \n",
      "          tp.pianoId.logout();\n",
      "        \n",
      "          tp.pianoId.show({\n",
      "            disableSignUp: true\n",
      "          })}, 2000);\n",
      "    } else{\n",
      "        setTimeout(function() {\n",
      "            location.reload();\n",
      "        }, 2000);\n",
      "        \n",
      "    }      \n",
      "  }]);\n",
      "</script>\n",
      "<script>\n",
      "tp.push([\"addHandler\", \"checkoutComplete\", function(conversion){ \n",
      "   var uid = tp.pianoId.getUser().uid\n",
      "        var params = { \n",
      "            uid: uid,\n",
      "            action : 'piano_reg',\n",
      "            subscriber: 'Y'\n",
      "        }\n",
      "        var url = 'https://sloanreview.mit.edu/wp-admin/admin-ajax.php';\n",
      "        jQuery.post(url, params, function(r) {});\n",
      "}]);\n",
      "</script>\n",
      "<script>(function(src){var a=document.createElement(\"script\");a.type=\"text/javascript\";a.async=true;a.src=src;var b=document.getElementsByTagName(\"script\")[0];b.parentNode.insertBefore(a,b)})(\"https://experience.tinypass.com/xbuilder/experience/load?aid=28WtJlio6C\");</script>\n",
      "    <script src=\"https://code.jquery.com/jquery-3.4.1.min.js\" integrity=\"sha256-CSXorXvZcTkaix6Yvo6HppcZGetbYMGWSFlBw8HfCJo=\" crossorigin=\"anonymous\"></script>\n",
      "    <!-- Facebook Pixel Code -->\n",
      "    <script>\n",
      "        !function(f,b,e,v,n,t,s)\n",
      "        {if(f.fbq)return;n=f.fbq=function(){n.callMethod?\n",
      "            n.callMethod.apply(n,arguments):n.queue.push(arguments)};\n",
      "            if(!f._fbq)f._fbq=n;n.push=n;n.loaded=!0;n.version='2.0';\n",
      "            n.queue=[];t=b.createElement(e);t.async=!0;\n",
      "            t.src=v;s=b.getElementsByTagName(e)[0];\n",
      "            s.parentNode.insertBefore(t,s)}(window, document,'script',\n",
      "            'https://connect.facebook.net/en_US/fbevents.js');\n",
      "        fbq('init', '746783872123190');\n",
      "        fbq('track', 'PageView');\n",
      "    </script>\n",
      "    <noscript><img height=\"1\" width=\"1\" style=\"display:none\"\n",
      "                   src=\"https://www.facebook.com/tr?id=746783872123190&ev=PageView&noscript=1\"\n",
      "        /></noscript>\n",
      "    <!-- End Facebook Pixel Code -->\n",
      "  </body>\n",
      "  </html>\n",
      "\n"
     ]
    }
   ],
   "source": [
    "print(response.content.decode(\"utf-8\"))"
   ]
  },
  {
   "cell_type": "code",
   "execution_count": 64,
   "metadata": {},
   "outputs": [],
   "source": [
    "chrome_driver = webdriver.Chrome(CHROME_APP)\n",
    "chrome_driver.get(company_3m + \"?cv=agility\")"
   ]
  },
  {
   "cell_type": "code",
   "execution_count": 65,
   "metadata": {},
   "outputs": [],
   "source": [
    "soup = BeautifulSoup(chrome_driver.page_source, \"html.parser\")"
   ]
  },
  {
   "cell_type": "code",
   "execution_count": 66,
   "metadata": {},
   "outputs": [
    {
     "data": {
      "text/plain": [
       "[]"
      ]
     },
     "execution_count": 66,
     "metadata": {},
     "output_type": "execute_result"
    }
   ],
   "source": [
    "soup.select(\"div.bubble-tooltip\")"
   ]
  },
  {
   "cell_type": "code",
   "execution_count": 71,
   "metadata": {},
   "outputs": [],
   "source": [
    "company_values = chrome_driver.find_elements_by_class_name(\"sc-bdVaJa.sc-EHOje.bubble-sidebar-button.sc-gqjmRU.eiaGtK\")\n",
    "agility = company_values[0]"
   ]
  },
  {
   "cell_type": "code",
   "execution_count": 75,
   "metadata": {},
   "outputs": [
    {
     "data": {
      "text/plain": [
       "['__bool__',\n",
       " '__class__',\n",
       " '__delattr__',\n",
       " '__dir__',\n",
       " '__doc__',\n",
       " '__eq__',\n",
       " '__format__',\n",
       " '__ge__',\n",
       " '__getattribute__',\n",
       " '__gt__',\n",
       " '__hash__',\n",
       " '__init__',\n",
       " '__init_subclass__',\n",
       " '__le__',\n",
       " '__lt__',\n",
       " '__ne__',\n",
       " '__new__',\n",
       " '__reduce__',\n",
       " '__reduce_ex__',\n",
       " '__repr__',\n",
       " '__setattr__',\n",
       " '__sizeof__',\n",
       " '__str__',\n",
       " '__subclasshook__']"
      ]
     },
     "execution_count": 75,
     "metadata": {},
     "output_type": "execute_result"
    }
   ],
   "source": [
    "agility.click()"
   ]
  },
  {
   "cell_type": "code",
   "execution_count": 77,
   "metadata": {},
   "outputs": [
    {
     "data": {
      "text/plain": [
       "'Agility\\nEmployees can respond quickly and effectively to changes in the marketplace and seize new opportunities.'"
      ]
     },
     "execution_count": 77,
     "metadata": {},
     "output_type": "execute_result"
    }
   ],
   "source": [
    "agility.text"
   ]
  },
  {
   "cell_type": "code",
   "execution_count": 79,
   "metadata": {},
   "outputs": [
    {
     "data": {
      "text/plain": [
       "True"
      ]
     },
     "execution_count": 79,
     "metadata": {},
     "output_type": "execute_result"
    }
   ],
   "source": [
    "\"Frequency Score\" in chrome_driver.page_source"
   ]
  },
  {
   "cell_type": "code",
   "execution_count": 148,
   "metadata": {},
   "outputs": [],
   "source": [
    "import math\n",
    "\n",
    "def partition(value, num_slices):\n",
    "    \"\"\"Creates an approximately even partition of some whole number.\"\"\"\n",
    "    hop = value // num_slices\n",
    "    indices = [math.floor(ndx * hop) for ndx in range(num_slices - 1)].append(value)\n",
    "    \n",
    "    return indices"
   ]
  },
  {
   "cell_type": "code",
   "execution_count": 151,
   "metadata": {},
   "outputs": [],
   "source": [
    "res = partition(531, 12)"
   ]
  },
  {
   "cell_type": "code",
   "execution_count": null,
   "metadata": {},
   "outputs": [],
   "source": []
  }
 ],
 "metadata": {
  "kernelspec": {
   "display_name": "Python 3",
   "language": "python",
   "name": "python3"
  },
  "language_info": {
   "codemirror_mode": {
    "name": "ipython",
    "version": 3
   },
   "file_extension": ".py",
   "mimetype": "text/x-python",
   "name": "python",
   "nbconvert_exporter": "python",
   "pygments_lexer": "ipython3",
   "version": "3.7.3"
  }
 },
 "nbformat": 4,
 "nbformat_minor": 2
}
